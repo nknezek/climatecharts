{
 "cells": [
  {
   "cell_type": "code",
   "execution_count": 2,
   "metadata": {},
   "outputs": [
    {
     "data": {
      "text/plain": [
       "<module 'tempychart' from '/Users/nknezek/code/sunchart/tempychart.py'>"
      ]
     },
     "execution_count": 2,
     "metadata": {},
     "output_type": "execute_result"
    }
   ],
   "source": [
    "import numpy as np\n",
    "import ephem\n",
    "import matplotlib.pyplot as plt\n",
    "import matplotlib as mpl\n",
    "%matplotlib inline\n",
    "import datetime\n",
    "import pandas as pd\n",
    "import scipy as sp\n",
    "import scipy.signal as sig\n",
    "import scipy.interpolate as interp\n",
    "from imp import reload\n",
    "import tempychart as tp"
   ]
  },
  {
   "cell_type": "code",
   "execution_count": 70,
   "metadata": {},
   "outputs": [
    {
     "data": {
      "text/plain": [
       "<module 'tempychart' from '/Users/nknezek/code/sunchart/tempychart.py'>"
      ]
     },
     "execution_count": 70,
     "metadata": {},
     "output_type": "execute_result"
    }
   ],
   "source": [
    "reload(tp)"
   ]
  },
  {
   "cell_type": "code",
   "execution_count": 71,
   "metadata": {},
   "outputs": [],
   "source": [
    "lat='37.8716'\n",
    "lon='-122.2727'\n",
    "elevation=528\n",
    "GMT_offset = -7\n",
    "\n",
    "sunrise, sunset = tp.get_sunriseset(lat,lon,GMT_offset,elevation=elevation)"
   ]
  },
  {
   "cell_type": "code",
   "execution_count": 4,
   "metadata": {
    "collapsed": true
   },
   "outputs": [],
   "source": [
    "tfile = 'noaa_data/berkeley/alameda_dat.txt'\n",
    "df, temps = tp.get_average_hourly_temp(tfile, GMT_offset=GMT_offset)\n",
    "tsmooth = tp.smooth_temps(temps, s=1e4,plot=True)\n",
    "\n",
    "dnfile = 'noaa_data/berkeley/Berkeley_daily_normals.csv'\n",
    "precip = tp.import_daily_normal_precip(dnfile)\n",
    "precip_smooth = tp.smooth_precip(precip,plot=True)"
   ]
  },
  {
   "cell_type": "code",
   "execution_count": 27,
   "metadata": {},
   "outputs": [],
   "source": [
    "plot_tempychart(precip_smooth, tsmooth, sunrise, sunset, 'Berkeley')"
   ]
  }
 ],
 "metadata": {
  "kernelspec": {
   "display_name": "Python 3",
   "language": "python",
   "name": "python3"
  },
  "language_info": {
   "codemirror_mode": {
    "name": "ipython",
    "version": 3
   },
   "file_extension": ".py",
   "mimetype": "text/x-python",
   "name": "python",
   "nbconvert_exporter": "python",
   "pygments_lexer": "ipython3",
   "version": "3.5.2"
  }
 },
 "nbformat": 4,
 "nbformat_minor": 2
}
