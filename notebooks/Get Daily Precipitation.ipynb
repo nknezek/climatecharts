{
 "cells": [
  {
   "cell_type": "code",
   "execution_count": 54,
   "metadata": {
    "collapsed": true
   },
   "outputs": [],
   "source": [
    "import numpy as np\n",
    "import ephem\n",
    "import matplotlib.pyplot as plt\n",
    "import matplotlib as mpl\n",
    "from mpl_toolkits.basemap import Basemap\n",
    "%matplotlib inline\n",
    "import datetime\n",
    "import pandas as pd\n",
    "import scipy as sp\n",
    "import scipy.signal as sig\n",
    "import scipy.interpolate as interp\n",
    "\n",
    "import tempychart as tp"
   ]
  },
  {
   "cell_type": "code",
   "execution_count": 144,
   "metadata": {},
   "outputs": [],
   "source": [
    "def read_daily_normals(filename):\n",
    "    dn = pd.read_csv(filename,na_values=['-9999','-666','unknown'], index_col='DATE',parse_dates=['DATE'])\n",
    "    dn['STATE'] = dn['STATION_NAME'].apply(lambda x: x.split(' ')[-2])\n",
    "    return dn\n",
    "\n",
    "def YTD_to_daily(YTD):\n",
    "    daily = np.zeros(365)\n",
    "    daily[0] = YTD[0]\n",
    "    daily[1:] = np.diff(YTD)\n",
    "    return daily\n",
    "\n",
    "def get_precipsnow(df, station_name):\n",
    "    st = df[df['STATION_NAME']==station_name]\n",
    "    precip = YTD_to_daily(st['YTD-PRCP-NORMAL'])\n",
    "    snow = YTD_to_daily(st['YTD-SNOW-NORMAL'])\n",
    "    return precip, snow\n",
    "\n",
    "def list_stations(df,state=None):\n",
    "    if state is not None:\n",
    "        tmp = df[df['STATE']==state]\n",
    "    else:\n",
    "        tmp = df\n",
    "    for st in np.sort(tmp['STATION_NAME'].unique()):\n",
    "        print(st)\n",
    "def list_states(df):\n",
    "    tmp = df\n",
    "    for st in np.sort(tmp['STATE'].unique()):\n",
    "        print(st)\n",
    "\n",
    "def output_precip_csv(df, station_name, csv_name):\n",
    "    idf = df[df['STATION_NAME']==station_name]\n",
    "    precip,snow = get_precipsnow(idf, station_name)\n",
    "    idf['precip'] = precip\n",
    "    idf['snow'] = snow\n",
    "    idf.to_csv(csv_name,columns=['STATION_NAME','LATITUDE','LONGITUDE','precip','snow'])"
   ]
  },
  {
   "cell_type": "code",
   "execution_count": 145,
   "metadata": {
    "collapsed": true
   },
   "outputs": [],
   "source": [
    "# filename = './noaa_data/daily_normals.csv'\n",
    "filename = './noaa_data/berkeley/Berkeley_daily_normals.csv'\n",
    "\n",
    "dn = read_daily_normals(filename)"
   ]
  },
  {
   "cell_type": "code",
   "execution_count": 146,
   "metadata": {
    "scrolled": true
   },
   "outputs": [
    {
     "name": "stdout",
     "output_type": "stream",
     "text": [
      "CA\n"
     ]
    }
   ],
   "source": [
    "list_states(dn)"
   ]
  },
  {
   "cell_type": "code",
   "execution_count": 147,
   "metadata": {},
   "outputs": [
    {
     "name": "stdout",
     "output_type": "stream",
     "text": [
      "BERKELEY CA US\n"
     ]
    }
   ],
   "source": [
    "list_stations(dn, 'CA')"
   ]
  },
  {
   "cell_type": "code",
   "execution_count": 148,
   "metadata": {},
   "outputs": [],
   "source": [
    "station_name = 'BERKELEY CA US'\n",
    "csv_name = './noaa_data/berkeley/dailyprecip.csv'\n",
    "output_precip_csv(dn, station_name, csv_name)"
   ]
  },
  {
   "cell_type": "code",
   "execution_count": 129,
   "metadata": {},
   "outputs": [
    {
     "name": "stderr",
     "output_type": "stream",
     "text": [
      "/usr/local/lib/python3.5/site-packages/ipykernel_launcher.py:28: SettingWithCopyWarning: \n",
      "A value is trying to be set on a copy of a slice from a DataFrame.\n",
      "Try using .loc[row_indexer,col_indexer] = value instead\n",
      "\n",
      "See the caveats in the documentation: http://pandas.pydata.org/pandas-docs/stable/indexing.html#indexing-view-versus-copy\n",
      "/usr/local/lib/python3.5/site-packages/ipykernel_launcher.py:29: SettingWithCopyWarning: \n",
      "A value is trying to be set on a copy of a slice from a DataFrame.\n",
      "Try using .loc[row_indexer,col_indexer] = value instead\n",
      "\n",
      "See the caveats in the documentation: http://pandas.pydata.org/pandas-docs/stable/indexing.html#indexing-view-versus-copy\n"
     ]
    }
   ],
   "source": [
    "station_name = 'NEWPORT NH US'\n",
    "csv_name = './noaa_data/hanover/dailyprecip.csv'\n",
    "output_precip_csv(dn, station_name, csv_name)"
   ]
  },
  {
   "cell_type": "code",
   "execution_count": 130,
   "metadata": {},
   "outputs": [
    {
     "name": "stderr",
     "output_type": "stream",
     "text": [
      "/usr/local/lib/python3.5/site-packages/ipykernel_launcher.py:28: SettingWithCopyWarning: \n",
      "A value is trying to be set on a copy of a slice from a DataFrame.\n",
      "Try using .loc[row_indexer,col_indexer] = value instead\n",
      "\n",
      "See the caveats in the documentation: http://pandas.pydata.org/pandas-docs/stable/indexing.html#indexing-view-versus-copy\n",
      "/usr/local/lib/python3.5/site-packages/ipykernel_launcher.py:29: SettingWithCopyWarning: \n",
      "A value is trying to be set on a copy of a slice from a DataFrame.\n",
      "Try using .loc[row_indexer,col_indexer] = value instead\n",
      "\n",
      "See the caveats in the documentation: http://pandas.pydata.org/pandas-docs/stable/indexing.html#indexing-view-versus-copy\n"
     ]
    }
   ],
   "source": [
    "station_name = 'SEATTLE BOEING FIELD WA US'\n",
    "csv_name = './noaa_data/seattle/dailyprecip.csv'\n",
    "output_precip_csv(dn, station_name, csv_name)"
   ]
  },
  {
   "cell_type": "code",
   "execution_count": 137,
   "metadata": {},
   "outputs": [
    {
     "name": "stderr",
     "output_type": "stream",
     "text": [
      "/usr/local/lib/python3.5/site-packages/ipykernel_launcher.py:33: SettingWithCopyWarning: \n",
      "A value is trying to be set on a copy of a slice from a DataFrame.\n",
      "Try using .loc[row_indexer,col_indexer] = value instead\n",
      "\n",
      "See the caveats in the documentation: http://pandas.pydata.org/pandas-docs/stable/indexing.html#indexing-view-versus-copy\n",
      "/usr/local/lib/python3.5/site-packages/ipykernel_launcher.py:34: SettingWithCopyWarning: \n",
      "A value is trying to be set on a copy of a slice from a DataFrame.\n",
      "Try using .loc[row_indexer,col_indexer] = value instead\n",
      "\n",
      "See the caveats in the documentation: http://pandas.pydata.org/pandas-docs/stable/indexing.html#indexing-view-versus-copy\n"
     ]
    }
   ],
   "source": [
    "station_name = 'AIEA HEIGHTS 764.6 HI US'\n",
    "csv_name = './noaa_data/honolulu/dailyprecip.csv'\n",
    "output_precip_csv(dn, station_name, csv_name)"
   ]
  },
  {
   "cell_type": "code",
   "execution_count": 139,
   "metadata": {},
   "outputs": [
    {
     "name": "stderr",
     "output_type": "stream",
     "text": [
      "/usr/local/lib/python3.5/site-packages/ipykernel_launcher.py:33: SettingWithCopyWarning: \n",
      "A value is trying to be set on a copy of a slice from a DataFrame.\n",
      "Try using .loc[row_indexer,col_indexer] = value instead\n",
      "\n",
      "See the caveats in the documentation: http://pandas.pydata.org/pandas-docs/stable/indexing.html#indexing-view-versus-copy\n",
      "/usr/local/lib/python3.5/site-packages/ipykernel_launcher.py:34: SettingWithCopyWarning: \n",
      "A value is trying to be set on a copy of a slice from a DataFrame.\n",
      "Try using .loc[row_indexer,col_indexer] = value instead\n",
      "\n",
      "See the caveats in the documentation: http://pandas.pydata.org/pandas-docs/stable/indexing.html#indexing-view-versus-copy\n"
     ]
    }
   ],
   "source": [
    "station_name = 'DENTON MUNICPAL AIRPORT TX US'\n",
    "csv_name = './noaa_data/sanger/dailyprecip.csv'\n",
    "output_precip_csv(dn, station_name, csv_name)"
   ]
  },
  {
   "cell_type": "code",
   "execution_count": null,
   "metadata": {
    "collapsed": true
   },
   "outputs": [],
   "source": []
  }
 ],
 "metadata": {
  "kernelspec": {
   "display_name": "Python 3",
   "language": "python",
   "name": "python3"
  },
  "language_info": {
   "codemirror_mode": {
    "name": "ipython",
    "version": 3
   },
   "file_extension": ".py",
   "mimetype": "text/x-python",
   "name": "python",
   "nbconvert_exporter": "python",
   "pygments_lexer": "ipython3",
   "version": "3.5.2"
  }
 },
 "nbformat": 4,
 "nbformat_minor": 2
}
